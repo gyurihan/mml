{
  "cells": [
    {
      "cell_type": "markdown",
      "metadata": {
        "id": "view-in-github",
        "colab_type": "text"
      },
      "source": [
        "<a href=\"https://colab.research.google.com/github/gyurihan/mml/blob/main/%E1%84%87%E1%85%A9%E1%86%A8%E1%84%8C%E1%85%A1%E1%86%B8%E1%84%80%E1%85%A8%EC%BD%94%EB%94%A9_3_23_~_4_2_%E1%84%92%E1%85%A1%E1%86%AB%E1%84%80%E1%85%B2%E1%84%85%E1%85%B5.ipynb\" target=\"_parent\"><img src=\"https://colab.research.google.com/assets/colab-badge.svg\" alt=\"Open In Colab\"/></a>"
      ]
    },
    {
      "cell_type": "markdown",
      "metadata": {
        "id": "GUR-wSv4mk97"
      },
      "source": [
        "### 복잡계 과제 3.23, 4.1, 4.2\n",
        "\n",
        "#### 융합대학원 소셜데이터사이언스전공 20222211 한규리\n",
        "\n",
        "---"
      ]
    },
    {
      "cell_type": "markdown",
      "metadata": {
        "id": "HaFEU-n-mk-A"
      },
      "source": [
        "### 3.23 어떤 네트워크에서 연결선 수가 같은 두 노드를 생각해보자. 둘 중 하나는 뭉침 계수가 크고 다른 하나는 뭉침 계수가 작다.\n",
        "\n",
        "### 다른 모든 조건이 동일할 때, 둘 중 어느 것이 네트워크를 교란시킬 수 있는 더 효과적인 공격 목표일 것 같은가?"
      ]
    },
    {
      "cell_type": "markdown",
      "metadata": {
        "id": "7Y3a6NaZmk-A"
      },
      "source": [
        "답변>> 낮은 뭉침 계수를 가진 노드를 제거하는 것이 네트워크를 교란시키고, 공격하기에 더 효과적이다.  \n",
        "\n",
        "높은 뭉침 계수를 가진 노드는 국소 네트워크라고도 불리며, 높은 연결 밀도를 가진다. 노드 간 강한 상호 작용을 보이고, 다른 노드들과 중복된 노드들의 연결을 가지기 때문에, 이 노드를 제거해도 네트워크 전체에 미친 영향은 상대적으로 작다.\n",
        "\n",
        "낮은 뭉침 계수를 가진 노드는 주변 노드와의 연결성이 낮기 때문에, 서브 네트워크 간의 다리 역할을 할 수 있다. 이 노드를 제거하면 네트워크의 전체 구조와 연결성에 더 큰 영향을 미칠 수 있고, 네트워크의 분절을 일으킬 수도 있다. 이는 마치 전쟁이 났을 때, 서울의 한강 위 다리를 끊어 물자나 사람이 이동하지 못하도록 만드는 행위와 유사하다."
      ]
    },
    {
      "cell_type": "markdown",
      "metadata": {
        "id": "S3DWsU6cmk-B"
      },
      "source": [
        "---"
      ]
    },
    {
      "cell_type": "markdown",
      "metadata": {
        "id": "E1TEcuMjmk-B"
      },
      "source": [
        "### 4.1 관심있는 2개의 논문을 활용해서 다음을 생각해보자.\n",
        "\n",
        "논문 1. Measurement of digital literacy among older adults: systematic review\n",
        "\n",
        "\n",
        "논문 2. Teaching digital literacy skills to the elderly using a social network with linear navigation: A case study in a rural area"
      ]
    },
    {
      "cell_type": "markdown",
      "metadata": {
        "id": "IGBraZlVmk-C"
      },
      "source": [
        "### 4.1.1. 인용 네트워크에서 두 논문 각각의 들어오는 연결수는 얼마인가?"
      ]
    },
    {
      "cell_type": "code",
      "execution_count": null,
      "metadata": {
        "id": "wHKr6ltkmk-C"
      },
      "outputs": [],
      "source": [
        "# 필요한 라이브러리 설치하기\n",
        "!apt-get update\n",
        "!pip install gspread\n",
        "!pip install gspread google-auth\n",
        "!pip install --upgrade oauth2client"
      ]
    },
    {
      "cell_type": "code",
      "source": [
        "from google.colab import auth\n",
        "auth.authenticate_user()\n",
        "\n",
        "import gspread\n",
        "from google.auth import default\n",
        "import pandas as pd\n",
        "\n",
        "creds, _ = default()\n",
        "gc = gspread.authorize(creds)\n",
        "\n",
        "# Elsevier에서 각 논문의 인용수와 참고수를 정리한 scopus 를 정리한 스프레드시트 URL\n",
        "spreadsheet_url = 'https://docs.google.com/spreadsheets/d/19kZrA3tAwGV3zIxC9srJWnG98pj-eUkpH0m7miL2aIc/edit?usp=sharing'\n",
        "\n",
        "# 첫번째 논문을 인용한 논문 목록 확인하기\n",
        "worksheet = gc.open_by_url(spreadsheet_url).get_worksheet(0)\n",
        "data = worksheet.get_all_values()\n",
        "df1 = pd.DataFrame(data)\n",
        "df1.columns = df1.iloc[0]\n",
        "df1 = df1.iloc[1:]\n",
        "df1_citation = set(df1['Title'].unique())\n",
        "\n",
        "# 두번째 논문을 인용한 논문 목록 확인하기\n",
        "worksheet = gc.open_by_url(spreadsheet_url).get_worksheet(1)\n",
        "data = worksheet.get_all_values()\n",
        "df2 = pd.DataFrame(data)\n",
        "df2.columns = df2.iloc[0]\n",
        "df2 = df2.iloc[1:]\n",
        "df2_citation = set(df2['Title'].unique())\n",
        "\n",
        "# 네트워크 그래프 생성\n",
        "G = nx.DiGraph()\n",
        "\n",
        "# 첫 번째 논문에 들어오는 연결선 수\n",
        "for title in df1['Title']:\n",
        "    G.add_edge(title, 'article1')\n",
        "\n",
        "# 두 번째 논문에 들어오는 연결선 수\n",
        "for title in df2['Title']:\n",
        "    G.add_edge(title, 'article2')\n",
        "\n",
        "# 각 논문의 들어오는 연결선 수 계산\n",
        "in_degree_article1 = G.in_degree('article1')\n",
        "in_degree_article2 = G.in_degree('article2')\n",
        "\n",
        "print(f\"첫번째 논문 들어오는 연결수:\", in_degree_article1)\n",
        "print(f\"두번째 논문 들어오는 연결수:\", in_degree_article2)"
      ],
      "metadata": {
        "colab": {
          "base_uri": "https://localhost:8080/"
        },
        "id": "uXN402U-gbXA",
        "outputId": "14573ac9-ed54-4222-a788-fa9f16060604"
      },
      "execution_count": 132,
      "outputs": [
        {
          "output_type": "stream",
          "name": "stdout",
          "text": [
            "첫번째 논문 들어오는 연결수: 72\n",
            "두번째 논문 들어오는 연결수: 65\n"
          ]
        }
      ]
    },
    {
      "cell_type": "markdown",
      "metadata": {
        "id": "mKnYETBmmk-G"
      },
      "source": [
        "### 4.1.2. 두 논문 각각에 대해 그 논문을 인용한 다른 논문의 목록을 확인해보라(Cited by). 두 논문 사이의 공동 인용 수를 계산해보라."
      ]
    },
    {
      "cell_type": "code",
      "source": [
        "# 두 논문을 공통으로 인용한 논문 찾기\n",
        "common_citations = set(G.predecessors('article1')).intersection(set(G.predecessors('article2')))\n",
        "\n",
        "# 공통 인용된 논문의 수와 목록 출력\n",
        "common_citations_count = len(common_citations)\n",
        "common_citations_list = list(common_citations)\n",
        "\n",
        "print(\"두 논문 사이의 공동 인용수:\", common_citations_count)\n",
        "print(\"공동인용 논문명:\", common_citations_list)"
      ],
      "metadata": {
        "colab": {
          "base_uri": "https://localhost:8080/"
        },
        "id": "JV_QgE-9INI9",
        "outputId": "6b1be4ee-2b9b-473d-d2f5-5ec3254e9e70"
      },
      "execution_count": 133,
      "outputs": [
        {
          "output_type": "stream",
          "name": "stdout",
          "text": [
            "두 논문 사이의 공동 인용수: 3\n",
            "공동인용 논문명: ['Effect of a Digital Literacy Program on Older Adults’ Digital Social Behavior: A Quasi-Experimental Study', \"Toward global digital literate citizens: A case of Thailand's aging generation\", 'How “basic” is basic digital literacy for older adults? Insights from digital skills instructors']\n"
          ]
        }
      ]
    },
    {
      "cell_type": "markdown",
      "metadata": {
        "id": "W9vY4Te8mk-G"
      },
      "source": [
        "### 4.1.3. 인용 네트워크에서 두 논문 각각의 나가는 연결선 수는 얼마인가?"
      ]
    },
    {
      "cell_type": "code",
      "source": [
        "from google.colab import auth\n",
        "auth.authenticate_user()\n",
        "\n",
        "import gspread\n",
        "from google.auth import default\n",
        "import pandas as pd\n",
        "\n",
        "creds, _ = default()\n",
        "gc = gspread.authorize(creds)\n",
        "\n",
        "# Elsevier에서 각 논문의 인용수와 참고수를 정리한 scopus 를 정리한 스프레드시트 URL\n",
        "spreadsheet_url = 'https://docs.google.com/spreadsheets/d/19kZrA3tAwGV3zIxC9srJWnG98pj-eUkpH0m7miL2aIc/edit?usp=sharing'\n",
        "\n",
        "# 첫번째 논문의 참고문헌 목록 확인하기\n",
        "worksheet = gc.open_by_url(spreadsheet_url).get_worksheet(2)\n",
        "data = worksheet.get_all_values()\n",
        "df3 = pd.DataFrame(data)\n",
        "df3.columns = df3.iloc[0]\n",
        "df3 = df3.iloc[1:]\n",
        "df3_reference = set(df3['Title'].unique())\n",
        "\n",
        "# 두번째 논문의 참고문헌 목록 확인하기\n",
        "worksheet = gc.open_by_url(spreadsheet_url).get_worksheet(3)\n",
        "data = worksheet.get_all_values()\n",
        "df4 = pd.DataFrame(data)\n",
        "df4.columns = df4.iloc[0]\n",
        "df4 = df4.iloc[1:]\n",
        "df4_reference = set(df4['Title'].unique())\n",
        "\n",
        "# 네트워크 그래프 생성\n",
        "G = nx.DiGraph()\n",
        "\n",
        "# 첫 번째 논문과 인용 논문 간의 관계 추가\n",
        "for title in df3['Title']:\n",
        "    G.add_edge('article1', title)\n",
        "\n",
        "# 두 번째 논문과 인용 논문 간의 관계 추가\n",
        "for title in df4['Title']:\n",
        "    G.add_edge('article2', title)\n",
        "\n",
        "# 각 논문의 나가는 연결선 수 계산\n",
        "out_degree_article1 = G.out_degree('article1')\n",
        "out_degree_article2 = G.out_degree('article2')\n",
        "\n",
        "print(f\"첫번째 논문 나가는 연결수:\", out_degree_article1, \",\",  \"두번째 논문 나가는 연결수:\" , out_degree_article2)\n"
      ],
      "metadata": {
        "colab": {
          "base_uri": "https://localhost:8080/"
        },
        "id": "JtvJcPEbrdSl",
        "outputId": "45f7ac6e-1be0-4616-96c0-52f64a75c478"
      },
      "execution_count": 134,
      "outputs": [
        {
          "output_type": "stream",
          "name": "stdout",
          "text": [
            "첫번째 논문 나가는 연결수: 62 , 두번째 논문 나가는 연결수: 69\n"
          ]
        }
      ]
    },
    {
      "cell_type": "markdown",
      "metadata": {
        "id": "Ery7ebHymk-H"
      },
      "source": [
        "### 4.1.4. 두 논문을 다운받아 참고문헌 목록을 분석하고, 두 논문 사이의 공동 참조 수를 계산해보라."
      ]
    },
    {
      "cell_type": "code",
      "source": [
        "# 네트워크 그래프 생성\n",
        "G = nx.DiGraph()\n",
        "\n",
        "# 첫번째 논문과 참조문헌 간의 관계 추가\n",
        "for title in df3['Title']:\n",
        "    G.add_edge('article1', title)\n",
        "\n",
        "# 두번째 논문과 참조문헌 간의 관계 추가\n",
        "for title in df4['Title']:\n",
        "    G.add_edge('article2', title)\n",
        "\n",
        "# 각 논문의 out-degree 계산\n",
        "article3_out_degree = G.out_degree('article1')\n",
        "article4_out_degree = G.out_degree('article2')\n",
        "\n",
        "\n",
        "# 두 논문을 공통으로 참조문헌 찾기\n",
        "common_reference = set(G.successors('article1')).intersection(set(G.successors('article2')))\n",
        "\n",
        "# 공통 참조문헌의 수와 목록 출력\n",
        "common_reference_count = len(common_reference)\n",
        "common_reference_list = list(common_reference)\n",
        "\n",
        "print(\"두 논문 사이의 공동 참조수:\", common_reference_count)\n",
        "print(\"공동참조 논문명:\", common_reference_list)\n"
      ],
      "metadata": {
        "colab": {
          "base_uri": "https://localhost:8080/"
        },
        "id": "R5klJQrE6x7a",
        "outputId": "7ed0b112-4a2c-4875-d7cc-755363ce8921"
      },
      "execution_count": 135,
      "outputs": [
        {
          "output_type": "stream",
          "name": "stdout",
          "text": [
            "두 논문 사이의 공동 참조수: 3\n",
            "공동참조 논문명: ['An Internet-based videoconferencing system for supporting frail elderly people and their carers', 'User acceptance of information technology: Toward a unified view', 'A technology acceptance model for empirically testing new end-user information systems: Theory and results']\n"
          ]
        }
      ]
    },
    {
      "cell_type": "markdown",
      "source": [
        "---"
      ],
      "metadata": {
        "id": "pi0i-NF-zq_m"
      }
    },
    {
      "cell_type": "markdown",
      "metadata": {
        "id": "samPBrHQmk-H"
      },
      "source": [
        "### 4.2 'network science'에 대한 위키백과 항목을 살펴보자.\n",
        "\n",
        "### 4.2.1. 위키백과 네트워크에서 이 페이지의 나가는 연결선 수는 얼마인가? (See also 개수)"
      ]
    },
    {
      "cell_type": "code",
      "execution_count": 136,
      "metadata": {
        "colab": {
          "base_uri": "https://localhost:8080/"
        },
        "id": "uY7YzZO7mk-H",
        "outputId": "70855edf-0b50-4628-816c-5be66eaeea59"
      },
      "outputs": [
        {
          "output_type": "stream",
          "name": "stdout",
          "text": [
            "network science 페이지에서 나가는 연결선 수: 33\n"
          ]
        }
      ],
      "source": [
        "import networkx as nx\n",
        "from bs4 import BeautifulSoup\n",
        "import urllib.request\n",
        "\n",
        "# 네트워크 그래프 만들기\n",
        "G = nx.DiGraph()\n",
        "\n",
        "# 시작 url\n",
        "url = 'https://en.wikipedia.org/wiki/Network_science'\n",
        "\n",
        "# 웹페이지 불러오기\n",
        "request = urllib.request.urlopen(url)\n",
        "html = request.read()\n",
        "soup = BeautifulSoup(html, 'html.parser')\n",
        "\n",
        "# See also 섹션 찾기\n",
        "element = soup.find('span', {'id': 'See_also'})\n",
        "\n",
        "# See also 섹션 링크 추출\n",
        "links = []\n",
        "if element:\n",
        "    while element.name != 'h2':\n",
        "        if element.name == 'a':\n",
        "            if element.get('href', '').startswith('/wiki'):\n",
        "                links.append(element['href'])\n",
        "        element = element.next_element\n",
        "\n",
        "# 네트워크 그래프에 링크 추가\n",
        "for NG in links:\n",
        "    G.add_edge(url, NG)\n",
        "\n",
        "print(\"network science 페이지에서 나가는 연결선 수:\", G.out_degree(url))\n"
      ]
    },
    {
      "cell_type": "markdown",
      "metadata": {
        "id": "ciwgwZfVmk-I"
      },
      "source": [
        "### 4.2.2. 위키백과 네트워크에서 'network science' 노드에 연결된 노드들을 방문해보고 이 항목에서 나가는 링크들이 얼마나 상호적인지 보고하라."
      ]
    },
    {
      "cell_type": "code",
      "execution_count": 137,
      "metadata": {
        "colab": {
          "base_uri": "https://localhost:8080/"
        },
        "id": "a8ZLlwokmk-I",
        "outputId": "571afa4d-7b57-4550-d5a3-b29aad2e20fe"
      },
      "outputs": [
        {
          "output_type": "stream",
          "name": "stdout",
          "text": [
            "network science에서 노드간 상호작용 수: 7\n"
          ]
        }
      ],
      "source": [
        "# 첫 번째 이웃 링크들을 전체 URL로 변환\n",
        "neighbors = [\"https://en.wikipedia.org\" + link for link in links]\n",
        "\n",
        "# 이웃 세트 만들기\n",
        "neighbor_set = set(neighbors)\n",
        "neighbor_set.add(url)\n",
        "\n",
        "# 상호 연결 수 계산\n",
        "reciprocal_links = 0\n",
        "for neighbor in neighbors:\n",
        "    # 이웃 웹페이지 불러오기\n",
        "    request = urllib.request.urlopen(neighbor)\n",
        "    html = request.read()\n",
        "    soup = BeautifulSoup(html, 'html.parser')\n",
        "\n",
        "    # See also 섹션 찾기 및 링크 추출\n",
        "    element = soup.find('span', {'id': 'See_also'})\n",
        "    second_links = []\n",
        "    while element and element.name != 'h2':\n",
        "        if element.name == 'a' and element.get('href', '').startswith('/wiki'):\n",
        "            second_link = 'https://en.wikipedia.org' + element['href']\n",
        "            second_links.append(second_link)\n",
        "        element = element.next_element\n",
        "\n",
        "    # 상호 연결된 링크 확인\n",
        "    for second_link in second_links:\n",
        "        if second_link in neighbor_set:\n",
        "            G.add_edge(neighbor, second_link)\n",
        "            if second_link == url:\n",
        "                reciprocal_links += 1\n",
        "\n",
        "print(\"network science에서 노드간 상호작용 수:\", reciprocal_links)\n"
      ]
    },
    {
      "cell_type": "markdown",
      "metadata": {
        "id": "XizyNA5zmk-J"
      },
      "source": [
        "### 4.2.3. 'network science' 노드의 자기주변 네트워크를 만들고 강하게 연결된 가장 큰 덩어리를 찾아보라.\n",
        "\n",
        "자기 주변 네트워크는 하나의 노드, 해당 노드의 모든 이웃과 그 이웃들 사이의 모든 링크로 구성돼 있음을 기억하라.\n",
        "\n",
        "방향이 있는 자기주변 네트워크도 이웃을 노드로부터 연결된 노드로 대체하는 것으로 비슷하게 정의된다."
      ]
    },
    {
      "cell_type": "code",
      "execution_count": 138,
      "metadata": {
        "colab": {
          "base_uri": "https://localhost:8080/"
        },
        "id": "f5A_SKxAmk-J",
        "outputId": "9abc7d91-8c03-4575-e872-4774e8b67d83"
      },
      "outputs": [
        {
          "output_type": "stream",
          "name": "stdout",
          "text": [
            "가장 큰 덩어리 수 : 4 , {'https://en.wikipedia.org/wiki/Network_topology', 'https://en.wikipedia.org/wiki/Network_dynamics', 'https://en.wikipedia.org/wiki/Gradient_network', 'https://en.wikipedia.org/wiki/Quantum_complex_network'}\n"
          ]
        }
      ],
      "source": [
        "# 'Network Science'와 그 이웃들로 구성된 하위 네트워크 생성\n",
        "subgraph_nodes = set([url]) | set(neighbors)\n",
        "subgraph = G.subgraph(subgraph_nodes)\n",
        "\n",
        "# 강하게 연결된 구성 요소 찾기\n",
        "strongly_connected_components = list(nx.strongly_connected_components(subgraph))\n",
        "\n",
        "# 가장 큰 강하게 연결된 구성 요소 찾기\n",
        "largest_scc = max(strongly_connected_components, key=len)\n",
        "\n",
        "print(f\"가장 큰 덩어리 수 :\", len(largest_scc), ',' , largest_scc)"
      ]
    },
    {
      "cell_type": "markdown",
      "metadata": {
        "id": "Locj3e7Gmk-J"
      },
      "source": [
        "### 4.2.4. 'network science' 자기주변 네트워크에서 '나가는 연결선 수'가 가장 큰 노드는 무엇인가?"
      ]
    },
    {
      "cell_type": "code",
      "execution_count": 139,
      "metadata": {
        "colab": {
          "base_uri": "https://localhost:8080/"
        },
        "id": "UuQb5FYimk-J",
        "outputId": "b0bf6337-a64d-4147-e02f-6427ca9e9175"
      },
      "outputs": [
        {
          "output_type": "stream",
          "name": "stdout",
          "text": [
            "나가는 연결선 수가 가장 큰 노드: https://en.wikipedia.org/wiki/Network_science\n"
          ]
        }
      ],
      "source": [
        "print(f\"나가는 연결선 수가 가장 큰 노드:\", max(G.nodes(), key=G.out_degree))"
      ]
    },
    {
      "cell_type": "markdown",
      "metadata": {
        "id": "v9HTAEY0mk-K"
      },
      "source": [
        "### 4.2.5. 'network science' 자기주변 네트워크에서 '들어오는 연결선 수'가 가장 큰 노드는 무엇인가?"
      ]
    },
    {
      "cell_type": "code",
      "execution_count": 140,
      "metadata": {
        "colab": {
          "base_uri": "https://localhost:8080/"
        },
        "id": "oaFAvu5rmk-K",
        "outputId": "a50d2eae-7c70-44a7-f795-5c8375fccc25"
      },
      "outputs": [
        {
          "output_type": "stream",
          "name": "stdout",
          "text": [
            "들어오는 연결선 수가 가장 큰 노드: https://en.wikipedia.org/wiki/Network_science\n"
          ]
        }
      ],
      "source": [
        "print(f\"들어오는 연결선 수가 가장 큰 노드:\", max(G.nodes(), key=G.in_degree))"
      ]
    }
  ],
  "metadata": {
    "kernelspec": {
      "display_name": "base",
      "language": "python",
      "name": "python3"
    },
    "language_info": {
      "codemirror_mode": {
        "name": "ipython",
        "version": 3
      },
      "file_extension": ".py",
      "mimetype": "text/x-python",
      "name": "python",
      "nbconvert_exporter": "python",
      "pygments_lexer": "ipython3",
      "version": "3.9.12"
    },
    "colab": {
      "provenance": [],
      "include_colab_link": true
    }
  },
  "nbformat": 4,
  "nbformat_minor": 0
}